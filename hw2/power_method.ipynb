{
 "cells": [
  {
   "cell_type": "code",
   "execution_count": 28,
   "metadata": {},
   "outputs": [],
   "source": [
    "import numpy as np\n",
    "import matplotlib.pyplot as plt"
   ]
  },
  {
   "cell_type": "code",
   "execution_count": 29,
   "metadata": {},
   "outputs": [],
   "source": [
    "class SpectralDecompositionPowerMethod:\n",
    "    \"\"\"\n",
    "    Store the output vector in the object attribute self.components_ and the \n",
    "    associated eigenvalue in the object attribute self.singular_values_ \n",
    " \n",
    "    Why this code structure and attribute names? We are using the convention used by \n",
    "    the popular scikit-learn machine learning library:\n",
    "    https://scikit-learn.org/stable/modules/generated/sklearn.decomposition.PCA.html\n",
    "\n",
    "    Parameters\n",
    "        max_iter (int): maximum number of iterations to for the calculation\n",
    "        tolerance (float): fractional change in solution to stop iteration early\n",
    "        gamma (float): momentum parameter for the power method\n",
    "        random_state (int): random seed for reproducibility\n",
    "        store_intermediate_results (bool): whether to store the intermediate results as\n",
    "            the power method iterates\n",
    "        stored_eigenvalues (list): If store_intermediate_results is active, a list of \n",
    "            eigenvalues at each iteration\n",
    "        stored_eigenvectors (list): If store_intermediate_results is active, a list of\n",
    "            eigenvectors at each iteration\n",
    "    \n",
    "    \"\"\"\n",
    "    def __init__(self, \n",
    "        max_iter=1000, \n",
    "        tolerance=1e-5, \n",
    "        gamma=0.0,\n",
    "        random_state=None, \n",
    "        store_intermediate_results=False\n",
    "    ):\n",
    "        self.max_iter = max_iter\n",
    "        self.tolerance = tolerance\n",
    "        self.gamma = gamma\n",
    "        self.random_state = random_state\n",
    "        \n",
    "        self.singular_values_ = None\n",
    "        self.components_ = None\n",
    "        \n",
    "        self.store_intermediate_results = store_intermediate_results\n",
    "        if store_intermediate_results:\n",
    "            self.stored_eigenvalues = list()\n",
    "            self.stored_eigenvectors = list()\n",
    "    \n",
    "    def fit(self, A):\n",
    "        \"\"\"\n",
    "        Perform the power method with random initialization, and optionally store\n",
    "        intermediate estimates of the eigenvalue and eigenvectors at each iteration.\n",
    "        You can add an early stopping criterion based on the tolerance parameter.\n",
    "        Steps to follow:\n",
    "        \"\"\"\n",
    "        # 1.  Start with a NxN matrix A\n",
    "        n = A.shape[0]\n",
    "        # 2.  Pick a random Nx1 vector v and convert it to a unit vector by scaling it with its own norm \n",
    "        np.random.seed(self.random_state)\n",
    "        vec = np.random.random(n)\n",
    "        vec = vec / np.linalg.norm(vec)\n",
    "\n",
    "        if self.store_intermediate_results:\n",
    "            self.stored_eigenvalues.append(1)\n",
    "            self.stored_eigenvectors.append(vec)\n",
    "            \n",
    "        diff = 10 # just a placeholder for difference\n",
    "        counts = 0 # to check how many times we've iterated\n",
    "        while diff > self.tolerance:\n",
    "            # 3.  Compute the matrix product of our matrix A with the random unit vector, and then update the vector\n",
    "            prev = np.copy(vec)\n",
    "            vec = A.dot(vec)\n",
    "            # 4.  Re-normalize the resulting vector, producing a new unit vector v\n",
    "            eig_val = np.linalg.norm(vec)\n",
    "            vec = vec / eig_val\n",
    "            vec = self.gamma * prev + (1 - self.gamma) * vec\n",
    "            \n",
    "            if self.store_intermediate_results:\n",
    "                self.stored_eigenvalues.append(eig_val)\n",
    "                self.stored_eigenvectors.append(vec)\n",
    "            \n",
    "            diff = np.mean(np.sqrt((vec - prev)**2 / prev**2))\n",
    "            counts += 1\n",
    "            # 5.  Repeat steps 2 and 3 until the elements of the output unit vector fluctuate less than a pre-specified tolerance\n",
    "            if counts > self.max_iter:\n",
    "                break\n",
    "        \n",
    "        if self.store_intermediate_results:\n",
    "            self.stored_eigenvalues = np.array(self.stored_eigenvalues)\n",
    "            self.stored_eigenvectors = np.array(self.stored_eigenvectors)\n",
    "            \n",
    "        self.singular_values_ = eig_val\n",
    "        self.components_ = vec"
   ]
  },
  {
   "cell_type": "code",
   "execution_count": 31,
   "metadata": {},
   "outputs": [
    {
     "name": "stdout",
     "output_type": "stream",
     "text": [
      "210.8709627331107\n",
      "Power method solution: 0.04834708743392474\n",
      "Numpy solution: 0.04834705746733398\n"
     ]
    },
    {
     "data": {
      "text/plain": [
       "Text(0, 0.5, 'Power method eigenvector')"
      ]
     },
     "execution_count": 31,
     "metadata": {},
     "output_type": "execute_result"
    },
    {
     "data": {
      "image/png": "[encoded data removed]",
      "text/plain": [
       "<Figure size 432x288 with 1 Axes>"
      ]
     },
     "metadata": {
      "needs_background": "light"
     },
     "output_type": "display_data"
    },
    {
     "data": {
      "image/png": "[encoded data removed]",
      "text/plain": [
       "<Figure size 432x288 with 1 Axes>"
      ]
     },
     "metadata": {
      "needs_background": "light"
     },
     "output_type": "display_data"
    }
   ],
   "source": [
    "## Use the default eigensystem calculator in numpy as a point of comparison\n",
    "def eigmax_numpy(A):\n",
    "    \"\"\"\n",
    "    Compute the maximum eigenvalue and associated eigenvector in a matrix with Numpy.\n",
    "    \"\"\"\n",
    "    eigsys = np.linalg.eig(A)\n",
    "    ind = np.abs(eigsys[0]).argmax()\n",
    "    return np.real(eigsys[0][ind]), np.real(eigsys[1][:, ind])\n",
    "\n",
    "\n",
    "# np.random.seed(2) # for reproducibility\n",
    "mm = np.random.random(size=(10, 10)) / 100\n",
    "#mm = np.random.normal(size=(10, 10))# / 100 # these matrices fail to converge more often\n",
    "\n",
    "print(np.linalg.cond(mm.T))\n",
    "model = SpectralDecompositionPowerMethod(store_intermediate_results=True)\n",
    "model.fit(mm);\n",
    "\n",
    "\n",
    "print(f\"Power method solution: {model.singular_values_}\")\n",
    "print(f\"Numpy solution: {eigmax_numpy(mm)[0]}\")\n",
    "\n",
    "plt.figure()\n",
    "plt.plot(model.stored_eigenvalues)\n",
    "plt.xlabel(\"Iteration\")\n",
    "plt.ylabel(\"Eigenvalue estimate\")\n",
    "\n",
    "plt.figure()\n",
    "plt.plot(eigmax_numpy(mm)[1], model.components_, '.')\n",
    "plt.xlabel(\"Numpy eigenvector\")\n",
    "plt.ylabel(\"Power method eigenvector\")"
   ]
  },
  {
   "cell_type": "code",
   "execution_count": 24,
   "metadata": {},
   "outputs": [
    {
     "data": {
      "text/plain": [
       "array([0.33869007, 0.25729271, 0.26008555, 0.34454388, 0.32911168,\n",
       "       0.24441285, 0.35232333, 0.36991335, 0.27988245, 0.3540912 ])"
      ]
     },
     "execution_count": 24,
     "metadata": {},
     "output_type": "execute_result"
    }
   ],
   "source": [
    "model.components_"
   ]
  },
  {
   "cell_type": "code",
   "execution_count": null,
   "metadata": {},
   "outputs": [],
   "source": []
  }
 ],
 "metadata": {
  "kernelspec": {
   "display_name": "Python 3",
   "language": "python",
   "name": "python3"
  },
  "language_info": {
   "codemirror_mode": {
    "name": "ipython",
    "version": 3
   },
   "file_extension": ".py",
   "mimetype": "text/x-python",
   "name": "python",
   "nbconvert_exporter": "python",
   "pygments_lexer": "ipython3",
   "version": "3.7.4"
  }
 },
 "nbformat": 4,
 "nbformat_minor": 2
}
